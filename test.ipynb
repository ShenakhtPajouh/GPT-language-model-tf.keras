{
 "cells": [
  {
   "cell_type": "code",
   "execution_count": 0,
   "metadata": {
    "colab": {},
    "colab_type": "code",
    "id": "vD4CNqutsU-Q"
   },
   "outputs": [],
   "source": [
    "import tensorflow as tf\n",
    "import matplotlib.pyplot as plt\n",
    "from init_model import Transformer as PreProcessor\n",
    "from gen_model import Transformer as Generator\n",
    "from text_utils import TextEncoder, encode_text\n",
    "import tensorflow.keras as keras"
   ]
  },
  {
   "cell_type": "code",
   "execution_count": 0,
   "metadata": {
    "colab": {},
    "colab_type": "code",
    "id": "uVaZ6424tCc6"
   },
   "outputs": [],
   "source": [
    "ENCODER_PATH = 'model/encoder_bpe_40000.json'\n",
    "BPE_PATH = 'model/vocab_40000.bpe'\n",
    "encoder = TextEncoder(ENCODER_PATH, BPE_PATH)\n",
    "decoder = encoder.decoder"
   ]
  },
  {
   "cell_type": "code",
   "execution_count": 0,
   "metadata": {
    "colab": {},
    "colab_type": "code",
    "id": "9lR2B-C3sYQl"
   },
   "outputs": [],
   "source": [
    "n_vocab = 40478"
   ]
  },
  {
   "cell_type": "code",
   "execution_count": 0,
   "metadata": {
    "colab": {},
    "colab_type": "code",
    "id": "oxMHnAWmspIO"
   },
   "outputs": [],
   "source": [
    "sess =  tf.Session()\n",
    "keras.backend.set_session(sess)\n",
    "preprocessor = PreProcessor(\"preprocessor\", n_vocab)\n",
    "generator = Generator(\"generator\", n_vocab)"
   ]
  },
  {
   "cell_type": "code",
   "execution_count": 9,
   "metadata": {
    "colab": {
     "base_uri": "https://localhost:8080/",
     "height": 89.0
    },
    "colab_type": "code",
    "id": "nEsQDtOUNzXJ",
    "outputId": "5a2ff89e-573a-45a6-f3ec-001758e8bb31"
   },
   "outputs": [
    {
     "name": "stdout",
     "output_type": "stream",
     "text": [
      "WARNING:tensorflow:From /usr/local/lib/python3.6/dist-packages/tensorflow/python/ops/resource_variable_ops.py:435: colocate_with (from tensorflow.python.framework.ops) is deprecated and will be removed in a future version.\n",
      "Instructions for updating:\n",
      "Colocations handled automatically by placer.\n"
     ]
    }
   ],
   "source": [
    "X = tf.placeholder(tf.int32, [1, 512, 2])\n",
    "L = tf.placeholder(tf.int32, [])\n",
    "token, mem_k, mem_v = preprocessor([L, X])"
   ]
  },
  {
   "cell_type": "code",
   "execution_count": 0,
   "metadata": {
    "colab": {},
    "colab_type": "code",
    "id": "rpKLuCxq28by"
   },
   "outputs": [],
   "source": [
    "T = tf.placeholder(tf.int32, [1, 1, 2])\n",
    "K = tf.placeholder(tf.float32, [12, 1, 12, 64, 512])\n",
    "V = tf.placeholder(tf.float32, [12, 1, 12, 512, 64])\n",
    "I = tf.placeholder(tf.int32, [])\n",
    "next_token, next_mem_k, next_mem_v = generator([T, K, V, I])"
   ]
  },
  {
   "cell_type": "code",
   "execution_count": 11,
   "metadata": {
    "colab": {
     "base_uri": "https://localhost:8080/",
     "height": 35.0
    },
    "colab_type": "code",
    "id": "ppzb-ghTJg-I",
    "outputId": "ff29b412-d91e-4f7c-8e5b-701621038739"
   },
   "outputs": [
    {
     "data": {
      "text/plain": [
       "<tensorflow.python.training.checkpointable.util.CheckpointLoadStatus at 0x7ff1d5665da0>"
      ]
     },
     "execution_count": 11,
     "metadata": {
      "tags": []
     },
     "output_type": "execute_result"
    }
   ],
   "source": [
    "generator.load_weights('model/model.ckpt')\n",
    "preprocessor.load_weights('model/model.ckpt')"
   ]
  },
  {
   "cell_type": "code",
   "execution_count": 0,
   "metadata": {
    "colab": {},
    "colab_type": "code",
    "id": "GfzcOO08s3d6"
   },
   "outputs": [],
   "source": [
    "txt = [\n",
    "    \"Daniel is approached by a young man calling himself Paul Sunday, who tells him of an oil deposit under his family's property in Little Boston, California. Daniel attempts to buy the farm at a bargain price. However, Paul's apparent twin brother, Eli, demands $10,000 for the church, of which he is pastor. An agreement is made for $5,000 after the well begins producing, and Daniel acquires all the available surrounding land, except for one holdout: William Bandy. Oil production begins, but after an accident kills a worker and a gas blowout deafens H. W., Eli blames the disasters on the well not being properly blessed. When Eli\"\n",
    "]"
   ]
  },
  {
   "cell_type": "code",
   "execution_count": 13,
   "metadata": {
    "colab": {
     "base_uri": "https://localhost:8080/",
     "height": 69.0
    },
    "colab_type": "code",
    "id": "g_wASsJqtbZC",
    "outputId": "dc690501-6a62-4c83-ff6e-cf188afa50d5"
   },
   "outputs": [
    {
     "name": "stdout",
     "output_type": "stream",
     "text": [
      "[nltk_data] Downloading package punkt to /root/nltk_data...\n",
      "[nltk_data]   Unzipping tokenizers/punkt.zip.\n"
     ]
    },
    {
     "data": {
      "text/plain": [
       "True"
      ]
     },
     "execution_count": 13,
     "metadata": {
      "tags": []
     },
     "output_type": "execute_result"
    }
   ],
   "source": [
    "import nltk\n",
    "nltk.download('punkt')"
   ]
  },
  {
   "cell_type": "code",
   "execution_count": 17,
   "metadata": {
    "colab": {
     "base_uri": "https://localhost:8080/",
     "height": 35.0
    },
    "colab_type": "code",
    "id": "deM8YK5UtMkW",
    "outputId": "d5b91099-fff5-4fe3-e76a-582d9f467532"
   },
   "outputs": [
    {
     "data": {
      "text/plain": [
       "137"
      ]
     },
     "execution_count": 17,
     "metadata": {
      "tags": []
     },
     "output_type": "execute_result"
    }
   ],
   "source": [
    "init_len, x = encode_text(txt)\n",
    "init_len"
   ]
  },
  {
   "cell_type": "code",
   "execution_count": 0,
   "metadata": {
    "colab": {},
    "colab_type": "code",
    "id": "lbnxgYfEQuB2"
   },
   "outputs": [],
   "source": [
    "gen_len = 200"
   ]
  },
  {
   "cell_type": "code",
   "execution_count": 0,
   "metadata": {
    "colab": {},
    "colab_type": "code",
    "id": "TWj_NrU73hsw"
   },
   "outputs": [],
   "source": [
    "t, k, v = sess.run([token, mem_k, mem_v], {X: x, L: init_len - 1})"
   ]
  },
  {
   "cell_type": "code",
   "execution_count": 0,
   "metadata": {
    "colab": {},
    "colab_type": "code",
    "id": "fjJAXTde3tSr"
   },
   "outputs": [],
   "source": [
    "x[0, init_len, 0] = t\n",
    "gen_len -= 1"
   ]
  },
  {
   "cell_type": "code",
   "execution_count": 0,
   "metadata": {
    "colab": {},
    "colab_type": "code",
    "id": "kcwgjtkE5jDp"
   },
   "outputs": [],
   "source": [
    "gen_tokens = [decoder[t].replace(\"</w>\", \"\")]"
   ]
  },
  {
   "cell_type": "code",
   "execution_count": 0,
   "metadata": {
    "colab": {},
    "colab_type": "code",
    "id": "TdohAIke5Zq0"
   },
   "outputs": [],
   "source": [
    "for step in range(gen_len):\n",
    "    prev_token = x[:, init_len + step : init_len + step + 1, :]\n",
    "    t, k, v = sess.run([next_token, next_mem_k, next_mem_v], {T: prev_token, K: k, V: v, I: init_len + step})\n",
    "    gen_tokens.append(decoder[t].replace(\"</w>\", \"\"))\n",
    "    x[0, init_len + step + 1, 0] = t"
   ]
  },
  {
   "cell_type": "code",
   "execution_count": 23,
   "metadata": {
    "colab": {
     "base_uri": "https://localhost:8080/",
     "height": 55.0
    },
    "colab_type": "code",
    "id": "mcjPYoXBNttR",
    "outputId": "19dc734f-cec6-4976-e7cd-077142380ff4"
   },
   "outputs": [
    {
     "data": {
      "text/plain": [
       "'asks him why he is so angry , he says : \" i do n\\'t want to be blamed for the fact that i \\'m not a man to be blamed for . \" he paused , and looked at daniel . \" i \\'m sorry , mr. ban dy . i \\'m sorry i \\'ve been so rude . \" he bowed his head and said , \" i \\'m sorry . \" he went on , \" and daniel was not sure what to say . \" i \\'m sorry , \" he said , \" i \\'m a little upset . i \\'m just a little upset . \" he was not sure what to do . \" i \\'m sorry , \" he said , \" i \\'m not sure what i \\'m doing here . i \\'m just a friend of the family . \" he looked at daniel , who was still standing there , and said , \" i \\'m sorry . i \\'m just a little upset . i \\'m not sure i \\'m not sure i \\'m going to be able to get over it . \" he was not sure'"
      ]
     },
     "execution_count": 23,
     "metadata": {
      "tags": []
     },
     "output_type": "execute_result"
    }
   ],
   "source": [
    "' '.join(gen_tokens)"
   ]
  }
 ],
 "metadata": {
  "accelerator": "GPU",
  "colab": {
   "name": "test.ipynb",
   "provenance": [],
   "version": "0.3.2"
  },
  "kernelspec": {
   "display_name": "Python 3",
   "language": "python",
   "name": "python3"
  },
  "language_info": {
   "codemirror_mode": {
    "name": "ipython",
    "version": 3
   },
   "file_extension": ".py",
   "mimetype": "text/x-python",
   "name": "python",
   "nbconvert_exporter": "python",
   "pygments_lexer": "ipython3",
   "version": "3.6.5"
  }
 },
 "nbformat": 4,
 "nbformat_minor": 1
}
